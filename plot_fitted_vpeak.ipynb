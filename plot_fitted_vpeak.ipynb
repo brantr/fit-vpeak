{
 "cells": [
  {
   "cell_type": "code",
   "execution_count": 1,
   "metadata": {},
   "outputs": [],
   "source": [
    "import matplotlib.pyplot as plt\n",
    "import numpy as np"
   ]
  },
  {
   "cell_type": "code",
   "execution_count": 16,
   "metadata": {},
   "outputs": [],
   "source": [
    "fname = \"HVF_500.txt\"\n",
    "fp = open(fname,\"r\")\n",
    "fl = fp.readlines()\n",
    "fp.close()\n",
    "z = np.double(fl[0].split()[1])\n",
    "ndata = len(fl)-1\n",
    "vpeak = np.zeros(ndata)\n",
    "vpfnc = np.zeros(ndata)\n",
    "vpfnc_err = np.zeros(ndata)\n",
    "for j in range(0,ndata):\n",
    "    vpeak[j] = np.double(fl[j+1].split()[0])\n",
    "    vpfnc[j] = np.double(fl[j+1].split()[1])\n",
    "    vpfnc_err[j] = np.double(fl[j+1].split()[2])"
   ]
  },
  {
   "cell_type": "code",
   "execution_count": 17,
   "metadata": {},
   "outputs": [],
   "source": [
    "def HVF_param(log10vpeak_arr,log10A,log10vcut,alpha,beta):\n",
    "    #‘’'\n",
    "    #HVF parameterization\n",
    "    #returns RHS of A2 from Comparat et al. 2017\n",
    "    #dlog10(vpeak^3/H^3 dn/dlnvpeak)\n",
    "    #------\n",
    "    #vpeak_arr: array of vpeak values to calculate\n",
    "    #A,log10vcut,alpha,beta: parameters of model\n",
    "    #------\n",
    "    #output: RHS of A2 from Comparat et al. 2017\n",
    "    #‘’'\n",
    "    x = (10**log10vpeak_arr)/(10**log10vcut)\n",
    "    output = np.log10(10**log10A * (1+x)**(-beta) * np.exp(- x**alpha))\n",
    "    return output"
   ]
  },
  {
   "cell_type": "code",
   "execution_count": 18,
   "metadata": {},
   "outputs": [
    {
     "name": "stdout",
     "output_type": "stream",
     "text": [
      "-0.7297183015674502\n",
      "2.8803778602910435\n",
      "1.1623712972613358\n",
      "-1.083489846592585\n"
     ]
    }
   ],
   "source": [
    "fname = \"chains/vpeak.summary.txt\"\n",
    "fp = open(fname,\"r\")\n",
    "fl = fp.readlines()\n",
    "fp.close()\n",
    "log10_A_ml = np.double(fl[0].split()[8])\n",
    "log10_vcut_ml = np.double(fl[0].split()[9])\n",
    "alpha_ml = np.double(fl[0].split()[10])\n",
    "beta_ml = np.double(fl[0].split()[11])\n",
    "print(log10_A_ml)\n",
    "print(log10_vcut_ml)\n",
    "print(alpha_ml)\n",
    "print(beta_ml)"
   ]
  },
  {
   "cell_type": "code",
   "execution_count": 19,
   "metadata": {},
   "outputs": [
    {
     "data": {
      "text/plain": [
       "<ErrorbarContainer object of 3 artists>"
      ]
     },
     "execution_count": 19,
     "metadata": {},
     "output_type": "execute_result"
    },
    {
     "data": {
      "image/png": "[encoded data removed]",
      "text/plain": [
       "<Figure size 432x288 with 1 Axes>"
      ]
     },
     "metadata": {
      "needs_background": "light"
     },
     "output_type": "display_data"
    }
   ],
   "source": [
    "plt.xlim([1.8,3.2])\n",
    "plt.ylim([-3.0,0.0])\n",
    "vv = np.linspace(1.8,3.2,1000)\n",
    "fv = HVF_param(vv,log10_A_ml, log10_vcut_ml, alpha_ml, beta_ml)\n",
    "plt.plot(vv,fv)\n",
    "plt.plot(vpeak,vpfnc,'.',color=\"0.5\")\n",
    "plt.errorbar(vpeak,vpfnc,yerr=vpfnc_err,color=\"0.5\")\n"
   ]
  },
  {
   "cell_type": "code",
   "execution_count": 7,
   "metadata": {},
   "outputs": [
    {
     "name": "stdout",
     "output_type": "stream",
     "text": [
      "3.0972624576070777\n"
     ]
    }
   ],
   "source": [
    "print(vpeak)"
   ]
  },
  {
   "cell_type": "code",
   "execution_count": null,
   "metadata": {},
   "outputs": [],
   "source": []
  }
 ],
 "metadata": {
  "kernelspec": {
   "display_name": "Python 3",
   "language": "python",
   "name": "python3"
  },
  "language_info": {
   "codemirror_mode": {
    "name": "ipython",
    "version": 3
   },
   "file_extension": ".py",
   "mimetype": "text/x-python",
   "name": "python",
   "nbconvert_exporter": "python",
   "pygments_lexer": "ipython3",
   "version": "3.6.9"
  }
 },
 "nbformat": 4,
 "nbformat_minor": 4
}
